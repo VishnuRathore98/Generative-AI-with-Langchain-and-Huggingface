{
 "cells": [
  {
   "cell_type": "markdown",
   "metadata": {},
   "source": [
    "#### Averaged Word2Vec embedding"
   ]
  },
  {
   "cell_type": "code",
   "execution_count": null,
   "metadata": {},
   "outputs": [],
   "source": [
    "import numpy as np\n",
    "from gensim.models import KeyedVectors"
   ]
  },
  {
   "cell_type": "code",
   "execution_count": null,
   "metadata": {},
   "outputs": [],
   "source": [
    "# Load pre-trained Word2Vec model\n",
    "word2vec_model = KeyedVectors.load_word2vec_format(\"GoogleNews-vectors-negative300.bin\", binary=True)"
   ]
  },
  {
   "cell_type": "code",
   "execution_count": null,
   "metadata": {},
   "outputs": [],
   "source": [
    "# Tokenize text into words.\n",
    "def tokenize(text):\n",
    "    \"\"\"Tokenize text into words.\"\"\"\n",
    "    return text.lower().split()"
   ]
  },
  {
   "cell_type": "code",
   "execution_count": null,
   "metadata": {},
   "outputs": [],
   "source": [
    "# Compute the averaged Word2Vec vector\n",
    "def get_average_word2vec(text, model, oov_vector=None):\n",
    "    \"\"\"\n",
    "    Compute the averaged Word2Vec vector for a given text.\n",
    "    - text: Input string.\n",
    "    - model: Pre-trained Word2Vec model.\n",
    "    - oov_vector: Vector to use for out-of-vocabulary words (default is None).\n",
    "    \"\"\"\n",
    "    tokens = tokenize(text)\n",
    "    vectors = []\n",
    "    \n",
    "    for word in tokens:\n",
    "        if word in model:\n",
    "            vectors.append(model[word])\n",
    "        elif oov_vector is not None:\n",
    "            vectors.append(oov_vector)\n",
    "    \n",
    "    if vectors:\n",
    "        return np.mean(vectors, axis=0)  # Average the vectors\n",
    "    else:\n",
    "        return np.zeros(model.vector_size)  # Return zero vector if no words are valid\n"
   ]
  },
  {
   "cell_type": "code",
   "execution_count": null,
   "metadata": {},
   "outputs": [],
   "source": [
    "# Example usage\n",
    "text = \"The quick brown fox jumps over the lazy dog.\"\n",
    "average_vector = get_average_word2vec(text, word2vec_model)\n",
    "print(\"Averaged Word2Vec Vector:\", average_vector)"
   ]
  }
 ],
 "metadata": {
  "language_info": {
   "name": "python"
  }
 },
 "nbformat": 4,
 "nbformat_minor": 2
}
