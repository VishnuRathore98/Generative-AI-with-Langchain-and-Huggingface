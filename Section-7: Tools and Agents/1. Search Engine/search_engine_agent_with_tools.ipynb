{
 "cells": [
  {
   "cell_type": "markdown",
   "metadata": {},
   "source": [
    "## Search Engine Agent With Langchain Tools"
   ]
  },
  {
   "cell_type": "markdown",
   "metadata": {},
   "source": [
    "##### Wikipedia tool -- Fetches short summaries from Wikipedia"
   ]
  },
  {
   "cell_type": "code",
   "execution_count": 1,
   "metadata": {},
   "outputs": [],
   "source": [
    "# Wikipedia tool\n",
    "from langchain_community.tools import WikipediaQueryRun\n",
    "from langchain_community.utilities import WikipediaAPIWrapper\n",
    "\n",
    "# Wikipedia API Wrapper with constraints\n",
    "api_wrapper_wiki = WikipediaAPIWrapper(top_k_results=1, doc_content_chars_max=250)\n",
    "\n",
    "# Create the Wikipedia tool\n",
    "wiki = WikipediaQueryRun(api_wrapper=api_wrapper_wiki)"
   ]
  },
  {
   "cell_type": "markdown",
   "metadata": {},
   "source": [
    "##### Arxiv Tool -- Fetches research paper abstracts from Arxiv"
   ]
  },
  {
   "cell_type": "code",
   "execution_count": 2,
   "metadata": {},
   "outputs": [],
   "source": [
    "# Arxiv Tool\n",
    "from langchain_community.tools import ArxivQueryRun\n",
    "from langchain_community.utilities import ArxivAPIWrapper\n",
    "\n",
    "# Arxiv API Wrapper with constraints\n",
    "api_wrapper_arxiv = ArxivAPIWrapper(top_k_results=1, doc_content_chars_max=250)\n",
    "\n",
    "# Create the Arxiv tool\n",
    "arxiv = ArxivQueryRun(api_wrapper=api_wrapper_arxiv)"
   ]
  },
  {
   "cell_type": "markdown",
   "metadata": {},
   "source": [
    "#####  Building a Custom Tool: LangChain Docs Search (RAG)"
   ]
  },
  {
   "cell_type": "code",
   "execution_count": 4,
   "metadata": {},
   "outputs": [],
   "source": [
    "from langchain_community.document_loaders import WebBaseLoader\n",
    "from langchain_community.vectorstores import FAISS\n",
    "from langchain_community.embeddings import OllamaEmbeddings\n",
    "from langchain_text_splitters import RecursiveCharacterTextSplitter\n",
    "\n",
    "# Load LangChain documentation\n",
    "loader = WebBaseLoader(\"https://docs.smith.langchain.com/\")\n",
    "docs = loader.load()\n",
    "\n",
    "# Split documents into smaller chunks\n",
    "documents = RecursiveCharacterTextSplitter(chunk_size=1000, chunk_overlap=200).split_documents(docs)\n",
    "\n",
    "# Store them in a FAISS vector database\n",
    "vectordb = FAISS.from_documents(documents, OllamaEmbeddings(model=\"mxbai-embed-large\"))\n",
    "\n",
    "# Create a retriever tool from the vector database\n",
    "retriever = vectordb.as_retriever()\n",
    "from langchain.tools.retriever import create_retriever_tool\n",
    "retriever_tool = create_retriever_tool(retriever, \"langsmith-search\", \"Search any information about Langsmith\")\n"
   ]
  },
  {
   "cell_type": "markdown",
   "metadata": {},
   "source": [
    "##### Combining the Tools"
   ]
  },
  {
   "cell_type": "code",
   "execution_count": 5,
   "metadata": {},
   "outputs": [],
   "source": [
    "tools = [wiki, arxiv, retriever_tool]"
   ]
  },
  {
   "cell_type": "markdown",
   "metadata": {},
   "source": [
    "##### Setting Up the AI Brain (LLM) and Prompt"
   ]
  },
  {
   "cell_type": "code",
   "execution_count": 7,
   "metadata": {},
   "outputs": [
    {
     "name": "stderr",
     "output_type": "stream",
     "text": [
      "/home/vpsr/Desktop/python/.venv/lib/python3.12/site-packages/langsmith/client.py:253: LangSmithMissingAPIKeyWarning: API key must be provided when using hosted LangSmith API\n",
      "  warnings.warn(\n"
     ]
    }
   ],
   "source": [
    "from langchain_groq import ChatGroq\n",
    "from dotenv import load_dotenv\n",
    "import os\n",
    "\n",
    "load_dotenv()\n",
    "groq_api_key = os.getenv(\"GROQ_API_KEY\")\n",
    "\n",
    "# Initialize the LLM using Groq's ChatGroq with the Llama3 model\n",
    "llm = ChatGroq(groq_api_key=groq_api_key, model_name=\"Llama3-8b-8192\")\n",
    "\n",
    "from langchain import hub\n",
    "# Pull a pre-configured prompt that guides the agent's tool-calling behavior\n",
    "prompt = hub.pull(\"hwchase17/openai-functions-agent\")\n"
   ]
  },
  {
   "cell_type": "markdown",
   "metadata": {},
   "source": [
    "##### Building the Agent"
   ]
  },
  {
   "cell_type": "code",
   "execution_count": 8,
   "metadata": {},
   "outputs": [],
   "source": [
    "from langchain.agents import create_openai_tools_agent\n",
    "\n",
    "# Create an agent with our LLM, tools, and prompt\n",
    "agent = create_openai_tools_agent(llm, tools, prompt)\n"
   ]
  },
  {
   "cell_type": "markdown",
   "metadata": {},
   "source": [
    "##### Executing the Agent\n"
   ]
  },
  {
   "cell_type": "code",
   "execution_count": 11,
   "metadata": {},
   "outputs": [],
   "source": [
    "from langchain.agents import AgentExecutor\n",
    "\n",
    "# Set up the agent executor, which manages the agent's decision process\n",
    "agent_executor = AgentExecutor(agent=agent, tools=tools)\n",
    "\n",
    "# Invoke the agent with different queries\n",
    "response1 = agent_executor.invoke({\"input\": \"Tell me about Langsmith\"})\n",
    "response2 = agent_executor.invoke({\"input\": \"What is machine learning\"})\n",
    "response3 = agent_executor.invoke({\"input\": \"What's the paper 1706.03762 about?\"})"
   ]
  },
  {
   "cell_type": "code",
   "execution_count": 14,
   "metadata": {},
   "outputs": [
    {
     "name": "stdout",
     "output_type": "stream",
     "text": [
      "It looks like the tool call yielded some information about LangSmith, a platform for building production-grade LLM (Large Language Model) applications. LangSmith seems to offer a range of features, including observability, evaluation, and prompt engineering tools to help developers build and optimize their AI applications.\n",
      "\n",
      "Some of the key takeaways from the information provided are:\n",
      "\n",
      "* LangSmith is a framework-agnostic platform that can be used with or without LangChain's open-source frameworks.\n",
      "* The platform provides LLM-native observability, allowing developers to get meaningful insights from their applications.\n",
      "* LangSmith offers evaluation tools to help developers test and optimize their applications, including automatic version control and collaboration features.\n",
      "* The platform also provides prompt engineering tools to help developers find the perfect prompt for their applications.\n",
      "\n",
      "Overall, LangSmith appears to be a powerful platform for building and optimizing AI applications, and it's great to learn more about it!\n"
     ]
    }
   ],
   "source": [
    "print(response1['output'])"
   ]
  },
  {
   "cell_type": "code",
   "execution_count": 15,
   "metadata": {},
   "outputs": [
    {
     "name": "stdout",
     "output_type": "stream",
     "text": [
      "Based on the tool call id \"call_25z0\" and the yielded result, I will provide a more detailed and concise answer to your original question.\n",
      "\n",
      "Machine learning is a subset of artificial intelligence that involves the use of algorithms and statistical models to enable machines to learn from data and make predictions or decisions without being explicitly programmed. It involves training models on large datasets, so they can learn patterns and relationships, and then apply this knowledge to new, unseen data.\n",
      "\n",
      "The goal of machine learning is to enable machines to automatically improve their performance on a task without being explicitly programmed for each specific task. In other words, machines can learn from experience and adapt to new situations.\n",
      "\n",
      "Machine learning is used in a wide range of applications, including image and speech recognition, natural language processing, recommender systems, and predictive analytics. It has many benefits, such as improved accuracy, increased efficiency, and reduced manual intervention.\n",
      "\n",
      "I hope this answers your question!\n"
     ]
    }
   ],
   "source": [
    "print(response2['output'])"
   ]
  },
  {
   "cell_type": "code",
   "execution_count": 16,
   "metadata": {},
   "outputs": [
    {
     "name": "stdout",
     "output_type": "stream",
     "text": [
      "The paper \"Attention Is All You Need\" by Ashish Vaswani et al. was published on August 2, 2023.\n"
     ]
    }
   ],
   "source": [
    "print(response3['output'])"
   ]
  }
 ],
 "metadata": {
  "kernelspec": {
   "display_name": ".venv",
   "language": "python",
   "name": "python3"
  },
  "language_info": {
   "codemirror_mode": {
    "name": "ipython",
    "version": 3
   },
   "file_extension": ".py",
   "mimetype": "text/x-python",
   "name": "python",
   "nbconvert_exporter": "python",
   "pygments_lexer": "ipython3",
   "version": "3.12.3"
  }
 },
 "nbformat": 4,
 "nbformat_minor": 2
}
