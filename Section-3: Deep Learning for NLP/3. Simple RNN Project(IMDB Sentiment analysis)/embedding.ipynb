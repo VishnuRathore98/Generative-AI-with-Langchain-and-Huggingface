{
 "cells": [
  {
   "cell_type": "code",
   "execution_count": 1,
   "metadata": {},
   "outputs": [
    {
     "name": "stderr",
     "output_type": "stream",
     "text": [
      "2025-01-21 06:03:29.075651: I external/local_xla/xla/tsl/cuda/cudart_stub.cc:32] Could not find cuda drivers on your machine, GPU will not be used.\n",
      "2025-01-21 06:03:31.095858: I external/local_xla/xla/tsl/cuda/cudart_stub.cc:32] Could not find cuda drivers on your machine, GPU will not be used.\n",
      "2025-01-21 06:03:32.088128: E external/local_xla/xla/stream_executor/cuda/cuda_fft.cc:477] Unable to register cuFFT factory: Attempting to register factory for plugin cuFFT when one has already been registered\n",
      "WARNING: All log messages before absl::InitializeLog() is called are written to STDERR\n",
      "E0000 00:00:1737419613.150758    5674 cuda_dnn.cc:8310] Unable to register cuDNN factory: Attempting to register factory for plugin cuDNN when one has already been registered\n",
      "E0000 00:00:1737419613.396852    5674 cuda_blas.cc:1418] Unable to register cuBLAS factory: Attempting to register factory for plugin cuBLAS when one has already been registered\n",
      "2025-01-21 06:03:36.017412: I tensorflow/core/platform/cpu_feature_guard.cc:210] This TensorFlow binary is optimized to use available CPU instructions in performance-critical operations.\n",
      "To enable the following instructions: AVX2 FMA, in other operations, rebuild TensorFlow with the appropriate compiler flags.\n"
     ]
    }
   ],
   "source": [
    "from tensorflow.keras.preprocessing.text import one_hot"
   ]
  },
  {
   "cell_type": "code",
   "execution_count": 2,
   "metadata": {},
   "outputs": [],
   "source": [
    "### sentences\n",
    "sent=[  'the glass of milk',\n",
    "     'the glass of juice',\n",
    "     'the cup of tea',\n",
    "    'I am a good boy',\n",
    "     'I am a good developer',\n",
    "     'understand the meaning of words',\n",
    "     'your videos are good',]"
   ]
  },
  {
   "cell_type": "code",
   "execution_count": 3,
   "metadata": {},
   "outputs": [
    {
     "data": {
      "text/plain": [
       "['the glass of milk',\n",
       " 'the glass of juice',\n",
       " 'the cup of tea',\n",
       " 'I am a good boy',\n",
       " 'I am a good developer',\n",
       " 'understand the meaning of words',\n",
       " 'your videos are good']"
      ]
     },
     "execution_count": 3,
     "metadata": {},
     "output_type": "execute_result"
    }
   ],
   "source": [
    "sent"
   ]
  },
  {
   "cell_type": "code",
   "execution_count": 4,
   "metadata": {},
   "outputs": [],
   "source": [
    "## Define the vocabulary size\n",
    "voc_size=10000"
   ]
  },
  {
   "cell_type": "code",
   "execution_count": 5,
   "metadata": {},
   "outputs": [
    {
     "data": {
      "text/plain": [
       "['the glass of milk',\n",
       " 'the glass of juice',\n",
       " 'the cup of tea',\n",
       " 'I am a good boy',\n",
       " 'I am a good developer',\n",
       " 'understand the meaning of words',\n",
       " 'your videos are good']"
      ]
     },
     "execution_count": 5,
     "metadata": {},
     "output_type": "execute_result"
    }
   ],
   "source": [
    "sent"
   ]
  },
  {
   "cell_type": "code",
   "execution_count": 6,
   "metadata": {},
   "outputs": [
    {
     "data": {
      "text/plain": [
       "[[2000, 9467, 3143, 8321],\n",
       " [2000, 9467, 3143, 8943],\n",
       " [2000, 5752, 3143, 6247],\n",
       " [3420, 9263, 940, 3334, 8753],\n",
       " [3420, 9263, 940, 3334, 4490],\n",
       " [9424, 2000, 3324, 3143, 2423],\n",
       " [1967, 8200, 8411, 3334]]"
      ]
     },
     "execution_count": 6,
     "metadata": {},
     "output_type": "execute_result"
    }
   ],
   "source": [
    "### One Hot Representation\n",
    "one_hot_repr=[one_hot(words,voc_size)for words in sent]\n",
    "one_hot_repr"
   ]
  },
  {
   "cell_type": "code",
   "execution_count": 7,
   "metadata": {},
   "outputs": [],
   "source": [
    "## word Embedding Representation\n",
    "\n",
    "from tensorflow.keras.layers import Embedding\n",
    "#from tensorflow.keras.processing.sequence import pad_sequences\n",
    "from tensorflow.keras.utils import pad_sequences\n",
    "from tensorflow.keras.models import Sequential"
   ]
  },
  {
   "cell_type": "code",
   "execution_count": 8,
   "metadata": {},
   "outputs": [],
   "source": [
    "import numpy as np"
   ]
  },
  {
   "cell_type": "code",
   "execution_count": 9,
   "metadata": {},
   "outputs": [
    {
     "name": "stdout",
     "output_type": "stream",
     "text": [
      "[[   0    0    0    0 2000 9467 3143 8321]\n",
      " [   0    0    0    0 2000 9467 3143 8943]\n",
      " [   0    0    0    0 2000 5752 3143 6247]\n",
      " [   0    0    0 3420 9263  940 3334 8753]\n",
      " [   0    0    0 3420 9263  940 3334 4490]\n",
      " [   0    0    0 9424 2000 3324 3143 2423]\n",
      " [   0    0    0    0 1967 8200 8411 3334]]\n"
     ]
    }
   ],
   "source": [
    "sent_length=8\n",
    "embedded_docs=pad_sequences(one_hot_repr,padding='pre',maxlen=sent_length)\n",
    "print(embedded_docs)"
   ]
  },
  {
   "cell_type": "code",
   "execution_count": 10,
   "metadata": {},
   "outputs": [],
   "source": [
    "## feature representation\n",
    "dim=10"
   ]
  },
  {
   "cell_type": "code",
   "execution_count": 11,
   "metadata": {},
   "outputs": [
    {
     "name": "stderr",
     "output_type": "stream",
     "text": [
      "/home/vpsr/.local/lib/python3.10/site-packages/keras/src/layers/core/embedding.py:90: UserWarning: Argument `input_length` is deprecated. Just remove it.\n",
      "  warnings.warn(\n",
      "2025-01-21 06:08:33.874569: E external/local_xla/xla/stream_executor/cuda/cuda_driver.cc:152] failed call to cuInit: INTERNAL: CUDA error: Failed call to cuInit: CUDA_ERROR_NO_DEVICE: no CUDA-capable device is detected\n"
     ]
    }
   ],
   "source": [
    "model=Sequential()\n",
    "model.add(Embedding(voc_size,dim,input_length=sent_length))\n",
    "model.compile('adam','mse')"
   ]
  },
  {
   "cell_type": "code",
   "execution_count": 12,
   "metadata": {},
   "outputs": [
    {
     "data": {
      "text/html": [
       "<pre style=\"white-space:pre;overflow-x:auto;line-height:normal;font-family:Menlo,'DejaVu Sans Mono',consolas,'Courier New',monospace\"><span style=\"font-weight: bold\">Model: \"sequential\"</span>\n",
       "</pre>\n"
      ],
      "text/plain": [
       "\u001b[1mModel: \"sequential\"\u001b[0m\n"
      ]
     },
     "metadata": {},
     "output_type": "display_data"
    },
    {
     "data": {
      "text/html": [
       "<pre style=\"white-space:pre;overflow-x:auto;line-height:normal;font-family:Menlo,'DejaVu Sans Mono',consolas,'Courier New',monospace\">┏━━━━━━━━━━━━━━━━━━━━━━━━━━━━━━━━━┳━━━━━━━━━━━━━━━━━━━━━━━━┳━━━━━━━━━━━━━━━┓\n",
       "┃<span style=\"font-weight: bold\"> Layer (type)                    </span>┃<span style=\"font-weight: bold\"> Output Shape           </span>┃<span style=\"font-weight: bold\">       Param # </span>┃\n",
       "┡━━━━━━━━━━━━━━━━━━━━━━━━━━━━━━━━━╇━━━━━━━━━━━━━━━━━━━━━━━━╇━━━━━━━━━━━━━━━┩\n",
       "│ embedding (<span style=\"color: #0087ff; text-decoration-color: #0087ff\">Embedding</span>)           │ ?                      │   <span style=\"color: #00af00; text-decoration-color: #00af00\">0</span> (unbuilt) │\n",
       "└─────────────────────────────────┴────────────────────────┴───────────────┘\n",
       "</pre>\n"
      ],
      "text/plain": [
       "┏━━━━━━━━━━━━━━━━━━━━━━━━━━━━━━━━━┳━━━━━━━━━━━━━━━━━━━━━━━━┳━━━━━━━━━━━━━━━┓\n",
       "┃\u001b[1m \u001b[0m\u001b[1mLayer (type)                   \u001b[0m\u001b[1m \u001b[0m┃\u001b[1m \u001b[0m\u001b[1mOutput Shape          \u001b[0m\u001b[1m \u001b[0m┃\u001b[1m \u001b[0m\u001b[1m      Param #\u001b[0m\u001b[1m \u001b[0m┃\n",
       "┡━━━━━━━━━━━━━━━━━━━━━━━━━━━━━━━━━╇━━━━━━━━━━━━━━━━━━━━━━━━╇━━━━━━━━━━━━━━━┩\n",
       "│ embedding (\u001b[38;5;33mEmbedding\u001b[0m)           │ ?                      │   \u001b[38;5;34m0\u001b[0m (unbuilt) │\n",
       "└─────────────────────────────────┴────────────────────────┴───────────────┘\n"
      ]
     },
     "metadata": {},
     "output_type": "display_data"
    },
    {
     "data": {
      "text/html": [
       "<pre style=\"white-space:pre;overflow-x:auto;line-height:normal;font-family:Menlo,'DejaVu Sans Mono',consolas,'Courier New',monospace\"><span style=\"font-weight: bold\"> Total params: </span><span style=\"color: #00af00; text-decoration-color: #00af00\">0</span> (0.00 B)\n",
       "</pre>\n"
      ],
      "text/plain": [
       "\u001b[1m Total params: \u001b[0m\u001b[38;5;34m0\u001b[0m (0.00 B)\n"
      ]
     },
     "metadata": {},
     "output_type": "display_data"
    },
    {
     "data": {
      "text/html": [
       "<pre style=\"white-space:pre;overflow-x:auto;line-height:normal;font-family:Menlo,'DejaVu Sans Mono',consolas,'Courier New',monospace\"><span style=\"font-weight: bold\"> Trainable params: </span><span style=\"color: #00af00; text-decoration-color: #00af00\">0</span> (0.00 B)\n",
       "</pre>\n"
      ],
      "text/plain": [
       "\u001b[1m Trainable params: \u001b[0m\u001b[38;5;34m0\u001b[0m (0.00 B)\n"
      ]
     },
     "metadata": {},
     "output_type": "display_data"
    },
    {
     "data": {
      "text/html": [
       "<pre style=\"white-space:pre;overflow-x:auto;line-height:normal;font-family:Menlo,'DejaVu Sans Mono',consolas,'Courier New',monospace\"><span style=\"font-weight: bold\"> Non-trainable params: </span><span style=\"color: #00af00; text-decoration-color: #00af00\">0</span> (0.00 B)\n",
       "</pre>\n"
      ],
      "text/plain": [
       "\u001b[1m Non-trainable params: \u001b[0m\u001b[38;5;34m0\u001b[0m (0.00 B)\n"
      ]
     },
     "metadata": {},
     "output_type": "display_data"
    }
   ],
   "source": [
    "model.summary()"
   ]
  },
  {
   "cell_type": "code",
   "execution_count": 31,
   "metadata": {},
   "outputs": [
    {
     "name": "stdout",
     "output_type": "stream",
     "text": [
      "\u001b[1m1/1\u001b[0m \u001b[32m━━━━━━━━━━━━━━━━━━━━\u001b[0m\u001b[37m\u001b[0m \u001b[1m0s\u001b[0m 23ms/step\n"
     ]
    },
    {
     "data": {
      "text/plain": [
       "array([[[ 1.37107112e-02,  1.43046863e-02,  3.98006923e-02,\n",
       "          4.41766493e-02,  1.89087875e-02,  2.44319327e-02,\n",
       "         -2.93429941e-03, -4.27718423e-02,  2.06258409e-02,\n",
       "         -2.15173252e-02],\n",
       "        [ 1.37107112e-02,  1.43046863e-02,  3.98006923e-02,\n",
       "          4.41766493e-02,  1.89087875e-02,  2.44319327e-02,\n",
       "         -2.93429941e-03, -4.27718423e-02,  2.06258409e-02,\n",
       "         -2.15173252e-02],\n",
       "        [ 1.37107112e-02,  1.43046863e-02,  3.98006923e-02,\n",
       "          4.41766493e-02,  1.89087875e-02,  2.44319327e-02,\n",
       "         -2.93429941e-03, -4.27718423e-02,  2.06258409e-02,\n",
       "         -2.15173252e-02],\n",
       "        [ 1.37107112e-02,  1.43046863e-02,  3.98006923e-02,\n",
       "          4.41766493e-02,  1.89087875e-02,  2.44319327e-02,\n",
       "         -2.93429941e-03, -4.27718423e-02,  2.06258409e-02,\n",
       "         -2.15173252e-02],\n",
       "        [-4.21032533e-02,  3.19096334e-02,  3.60236280e-02,\n",
       "          4.57835458e-02,  1.49099343e-02,  1.32349469e-02,\n",
       "          3.83916982e-02, -4.66708094e-03,  2.62226909e-03,\n",
       "         -3.71798128e-03],\n",
       "        [-2.97621638e-03, -2.10922956e-02, -4.51632850e-02,\n",
       "         -3.04952748e-02,  2.49340273e-02,  1.70950778e-02,\n",
       "          6.32102415e-03, -3.16491947e-02, -2.30168179e-03,\n",
       "         -2.46971380e-02],\n",
       "        [-5.72729856e-04,  1.33912228e-02, -1.50593631e-02,\n",
       "          4.11690734e-02, -8.75871256e-03, -1.07121244e-02,\n",
       "          2.86217779e-03,  6.29425049e-04, -2.94384491e-02,\n",
       "         -3.70548852e-02],\n",
       "        [ 2.68159620e-02,  2.30779760e-02, -3.12961936e-02,\n",
       "          2.46018060e-02, -4.42352295e-02,  3.54970954e-02,\n",
       "          4.89216559e-02,  3.92048694e-02,  4.14595269e-02,\n",
       "          3.49177159e-02]],\n",
       "\n",
       "       [[ 1.37107112e-02,  1.43046863e-02,  3.98006923e-02,\n",
       "          4.41766493e-02,  1.89087875e-02,  2.44319327e-02,\n",
       "         -2.93429941e-03, -4.27718423e-02,  2.06258409e-02,\n",
       "         -2.15173252e-02],\n",
       "        [ 1.37107112e-02,  1.43046863e-02,  3.98006923e-02,\n",
       "          4.41766493e-02,  1.89087875e-02,  2.44319327e-02,\n",
       "         -2.93429941e-03, -4.27718423e-02,  2.06258409e-02,\n",
       "         -2.15173252e-02],\n",
       "        [ 1.37107112e-02,  1.43046863e-02,  3.98006923e-02,\n",
       "          4.41766493e-02,  1.89087875e-02,  2.44319327e-02,\n",
       "         -2.93429941e-03, -4.27718423e-02,  2.06258409e-02,\n",
       "         -2.15173252e-02],\n",
       "        [ 1.37107112e-02,  1.43046863e-02,  3.98006923e-02,\n",
       "          4.41766493e-02,  1.89087875e-02,  2.44319327e-02,\n",
       "         -2.93429941e-03, -4.27718423e-02,  2.06258409e-02,\n",
       "         -2.15173252e-02],\n",
       "        [-4.21032533e-02,  3.19096334e-02,  3.60236280e-02,\n",
       "          4.57835458e-02,  1.49099343e-02,  1.32349469e-02,\n",
       "          3.83916982e-02, -4.66708094e-03,  2.62226909e-03,\n",
       "         -3.71798128e-03],\n",
       "        [-2.97621638e-03, -2.10922956e-02, -4.51632850e-02,\n",
       "         -3.04952748e-02,  2.49340273e-02,  1.70950778e-02,\n",
       "          6.32102415e-03, -3.16491947e-02, -2.30168179e-03,\n",
       "         -2.46971380e-02],\n",
       "        [-5.72729856e-04,  1.33912228e-02, -1.50593631e-02,\n",
       "          4.11690734e-02, -8.75871256e-03, -1.07121244e-02,\n",
       "          2.86217779e-03,  6.29425049e-04, -2.94384491e-02,\n",
       "         -3.70548852e-02],\n",
       "        [-2.21619364e-02, -4.54223156e-03,  3.85758393e-02,\n",
       "         -2.01709513e-02, -2.48966943e-02,  2.43735798e-02,\n",
       "          5.20499796e-03,  6.62391260e-03, -3.77835631e-02,\n",
       "         -3.47989425e-02]],\n",
       "\n",
       "       [[ 1.37107112e-02,  1.43046863e-02,  3.98006923e-02,\n",
       "          4.41766493e-02,  1.89087875e-02,  2.44319327e-02,\n",
       "         -2.93429941e-03, -4.27718423e-02,  2.06258409e-02,\n",
       "         -2.15173252e-02],\n",
       "        [ 1.37107112e-02,  1.43046863e-02,  3.98006923e-02,\n",
       "          4.41766493e-02,  1.89087875e-02,  2.44319327e-02,\n",
       "         -2.93429941e-03, -4.27718423e-02,  2.06258409e-02,\n",
       "         -2.15173252e-02],\n",
       "        [ 1.37107112e-02,  1.43046863e-02,  3.98006923e-02,\n",
       "          4.41766493e-02,  1.89087875e-02,  2.44319327e-02,\n",
       "         -2.93429941e-03, -4.27718423e-02,  2.06258409e-02,\n",
       "         -2.15173252e-02],\n",
       "        [ 1.37107112e-02,  1.43046863e-02,  3.98006923e-02,\n",
       "          4.41766493e-02,  1.89087875e-02,  2.44319327e-02,\n",
       "         -2.93429941e-03, -4.27718423e-02,  2.06258409e-02,\n",
       "         -2.15173252e-02],\n",
       "        [-4.21032533e-02,  3.19096334e-02,  3.60236280e-02,\n",
       "          4.57835458e-02,  1.49099343e-02,  1.32349469e-02,\n",
       "          3.83916982e-02, -4.66708094e-03,  2.62226909e-03,\n",
       "         -3.71798128e-03],\n",
       "        [-1.63085684e-02,  2.27909423e-02, -2.57111322e-02,\n",
       "          2.33357809e-02,  2.71310471e-02,  3.16462405e-02,\n",
       "          2.62824781e-02, -1.40727870e-02,  3.36297601e-03,\n",
       "         -1.34206042e-02],\n",
       "        [-5.72729856e-04,  1.33912228e-02, -1.50593631e-02,\n",
       "          4.11690734e-02, -8.75871256e-03, -1.07121244e-02,\n",
       "          2.86217779e-03,  6.29425049e-04, -2.94384491e-02,\n",
       "         -3.70548852e-02],\n",
       "        [ 4.70435061e-02, -4.20057178e-02, -2.52990015e-02,\n",
       "         -4.26538698e-02,  2.55811699e-02,  2.97348388e-02,\n",
       "         -3.99039388e-02, -1.95115209e-02,  1.30522959e-02,\n",
       "          3.62944640e-02]],\n",
       "\n",
       "       [[ 1.37107112e-02,  1.43046863e-02,  3.98006923e-02,\n",
       "          4.41766493e-02,  1.89087875e-02,  2.44319327e-02,\n",
       "         -2.93429941e-03, -4.27718423e-02,  2.06258409e-02,\n",
       "         -2.15173252e-02],\n",
       "        [ 1.37107112e-02,  1.43046863e-02,  3.98006923e-02,\n",
       "          4.41766493e-02,  1.89087875e-02,  2.44319327e-02,\n",
       "         -2.93429941e-03, -4.27718423e-02,  2.06258409e-02,\n",
       "         -2.15173252e-02],\n",
       "        [ 1.37107112e-02,  1.43046863e-02,  3.98006923e-02,\n",
       "          4.41766493e-02,  1.89087875e-02,  2.44319327e-02,\n",
       "         -2.93429941e-03, -4.27718423e-02,  2.06258409e-02,\n",
       "         -2.15173252e-02],\n",
       "        [-2.56295688e-02, -3.74513492e-02,  4.02865559e-03,\n",
       "         -4.85929362e-02,  4.90954258e-02,  1.82523169e-02,\n",
       "         -2.85998825e-02, -8.82624462e-03, -3.80879417e-02,\n",
       "          2.95607112e-02],\n",
       "        [ 1.62181295e-02, -8.71992111e-03,  6.25502318e-04,\n",
       "         -4.92673516e-02, -4.37305234e-02, -2.08474640e-02,\n",
       "         -1.04178078e-02, -1.11921914e-02,  4.97602336e-02,\n",
       "         -1.82396770e-02],\n",
       "        [ 3.93021218e-02,  2.72308625e-02, -1.07116811e-02,\n",
       "         -1.67575255e-02, -2.67667174e-02,  2.46324278e-02,\n",
       "          3.14654037e-03,  7.16837496e-03,  2.64691003e-02,\n",
       "         -8.65384191e-03],\n",
       "        [ 4.88178991e-02, -4.15660441e-04,  4.59918641e-02,\n",
       "          3.80318500e-02,  2.11527981e-02, -3.42970379e-02,\n",
       "          1.08576640e-02, -3.96623127e-02, -4.78606597e-02,\n",
       "          7.51794502e-03],\n",
       "        [ 3.54898609e-02,  2.60315426e-02, -3.99686918e-02,\n",
       "         -4.79147211e-02, -2.63176206e-02,  4.07795049e-02,\n",
       "         -2.66120322e-02,  3.51327695e-02, -3.62537988e-02,\n",
       "         -8.22138041e-04]],\n",
       "\n",
       "       [[ 1.37107112e-02,  1.43046863e-02,  3.98006923e-02,\n",
       "          4.41766493e-02,  1.89087875e-02,  2.44319327e-02,\n",
       "         -2.93429941e-03, -4.27718423e-02,  2.06258409e-02,\n",
       "         -2.15173252e-02],\n",
       "        [ 1.37107112e-02,  1.43046863e-02,  3.98006923e-02,\n",
       "          4.41766493e-02,  1.89087875e-02,  2.44319327e-02,\n",
       "         -2.93429941e-03, -4.27718423e-02,  2.06258409e-02,\n",
       "         -2.15173252e-02],\n",
       "        [ 1.37107112e-02,  1.43046863e-02,  3.98006923e-02,\n",
       "          4.41766493e-02,  1.89087875e-02,  2.44319327e-02,\n",
       "         -2.93429941e-03, -4.27718423e-02,  2.06258409e-02,\n",
       "         -2.15173252e-02],\n",
       "        [-2.56295688e-02, -3.74513492e-02,  4.02865559e-03,\n",
       "         -4.85929362e-02,  4.90954258e-02,  1.82523169e-02,\n",
       "         -2.85998825e-02, -8.82624462e-03, -3.80879417e-02,\n",
       "          2.95607112e-02],\n",
       "        [ 1.62181295e-02, -8.71992111e-03,  6.25502318e-04,\n",
       "         -4.92673516e-02, -4.37305234e-02, -2.08474640e-02,\n",
       "         -1.04178078e-02, -1.11921914e-02,  4.97602336e-02,\n",
       "         -1.82396770e-02],\n",
       "        [ 3.93021218e-02,  2.72308625e-02, -1.07116811e-02,\n",
       "         -1.67575255e-02, -2.67667174e-02,  2.46324278e-02,\n",
       "          3.14654037e-03,  7.16837496e-03,  2.64691003e-02,\n",
       "         -8.65384191e-03],\n",
       "        [ 4.88178991e-02, -4.15660441e-04,  4.59918641e-02,\n",
       "          3.80318500e-02,  2.11527981e-02, -3.42970379e-02,\n",
       "          1.08576640e-02, -3.96623127e-02, -4.78606597e-02,\n",
       "          7.51794502e-03],\n",
       "        [ 3.30746807e-02,  4.33297642e-02,  4.55910228e-02,\n",
       "          3.42595614e-02, -6.17159531e-03,  2.05584615e-03,\n",
       "         -1.27108023e-03, -9.53730196e-03,  1.34062283e-02,\n",
       "          3.99689563e-02]],\n",
       "\n",
       "       [[ 1.37107112e-02,  1.43046863e-02,  3.98006923e-02,\n",
       "          4.41766493e-02,  1.89087875e-02,  2.44319327e-02,\n",
       "         -2.93429941e-03, -4.27718423e-02,  2.06258409e-02,\n",
       "         -2.15173252e-02],\n",
       "        [ 1.37107112e-02,  1.43046863e-02,  3.98006923e-02,\n",
       "          4.41766493e-02,  1.89087875e-02,  2.44319327e-02,\n",
       "         -2.93429941e-03, -4.27718423e-02,  2.06258409e-02,\n",
       "         -2.15173252e-02],\n",
       "        [ 1.37107112e-02,  1.43046863e-02,  3.98006923e-02,\n",
       "          4.41766493e-02,  1.89087875e-02,  2.44319327e-02,\n",
       "         -2.93429941e-03, -4.27718423e-02,  2.06258409e-02,\n",
       "         -2.15173252e-02],\n",
       "        [-3.23988944e-02,  6.59898669e-03,  4.76948917e-05,\n",
       "         -3.49455588e-02,  1.63460262e-02,  1.86132081e-02,\n",
       "          2.23450996e-02, -1.22835636e-02,  4.97023724e-02,\n",
       "          2.09217779e-02],\n",
       "        [-4.21032533e-02,  3.19096334e-02,  3.60236280e-02,\n",
       "          4.57835458e-02,  1.49099343e-02,  1.32349469e-02,\n",
       "          3.83916982e-02, -4.66708094e-03,  2.62226909e-03,\n",
       "         -3.71798128e-03],\n",
       "        [-9.55551863e-03, -4.24912944e-02,  3.99005078e-02,\n",
       "          3.54498960e-02, -2.49909163e-02, -8.40263441e-03,\n",
       "          3.49651836e-02,  2.41475366e-02, -4.47200909e-02,\n",
       "         -3.05282008e-02],\n",
       "        [-5.72729856e-04,  1.33912228e-02, -1.50593631e-02,\n",
       "          4.11690734e-02, -8.75871256e-03, -1.07121244e-02,\n",
       "          2.86217779e-03,  6.29425049e-04, -2.94384491e-02,\n",
       "         -3.70548852e-02],\n",
       "        [-3.28288302e-02,  7.63612986e-03, -1.35884434e-03,\n",
       "         -1.66997202e-02,  6.03033230e-03, -1.23954415e-02,\n",
       "         -3.52990516e-02, -1.12489685e-02, -3.94099727e-02,\n",
       "         -2.34448910e-03]],\n",
       "\n",
       "       [[ 1.37107112e-02,  1.43046863e-02,  3.98006923e-02,\n",
       "          4.41766493e-02,  1.89087875e-02,  2.44319327e-02,\n",
       "         -2.93429941e-03, -4.27718423e-02,  2.06258409e-02,\n",
       "         -2.15173252e-02],\n",
       "        [ 1.37107112e-02,  1.43046863e-02,  3.98006923e-02,\n",
       "          4.41766493e-02,  1.89087875e-02,  2.44319327e-02,\n",
       "         -2.93429941e-03, -4.27718423e-02,  2.06258409e-02,\n",
       "         -2.15173252e-02],\n",
       "        [ 1.37107112e-02,  1.43046863e-02,  3.98006923e-02,\n",
       "          4.41766493e-02,  1.89087875e-02,  2.44319327e-02,\n",
       "         -2.93429941e-03, -4.27718423e-02,  2.06258409e-02,\n",
       "         -2.15173252e-02],\n",
       "        [ 1.37107112e-02,  1.43046863e-02,  3.98006923e-02,\n",
       "          4.41766493e-02,  1.89087875e-02,  2.44319327e-02,\n",
       "         -2.93429941e-03, -4.27718423e-02,  2.06258409e-02,\n",
       "         -2.15173252e-02],\n",
       "        [-3.16284075e-02, -3.70010845e-02,  1.74409784e-02,\n",
       "         -2.26896405e-02, -1.14865415e-02, -2.87523754e-02,\n",
       "         -1.80490017e-02, -2.97919400e-02,  2.99771875e-03,\n",
       "          3.48818637e-02],\n",
       "        [-2.19613668e-02, -2.25194544e-03, -4.66226414e-03,\n",
       "          5.10016829e-03,  8.42660666e-06,  1.97809227e-02,\n",
       "         -2.81220675e-03,  3.02483328e-02,  2.67038979e-02,\n",
       "          2.86206268e-02],\n",
       "        [-3.52337211e-03,  4.99104522e-02, -2.21467502e-02,\n",
       "          4.72496860e-02,  1.08870380e-02,  4.60368395e-03,\n",
       "          3.41881178e-02, -2.35579964e-02,  4.93986942e-02,\n",
       "          7.28292391e-03],\n",
       "        [ 4.88178991e-02, -4.15660441e-04,  4.59918641e-02,\n",
       "          3.80318500e-02,  2.11527981e-02, -3.42970379e-02,\n",
       "          1.08576640e-02, -3.96623127e-02, -4.78606597e-02,\n",
       "          7.51794502e-03]]], dtype=float32)"
      ]
     },
     "execution_count": 31,
     "metadata": {},
     "output_type": "execute_result"
    }
   ],
   "source": [
    "model.predict(embedded_docs)"
   ]
  }
 ],
 "metadata": {
  "kernelspec": {
   "display_name": "Python 3",
   "language": "python",
   "name": "python3"
  },
  "language_info": {
   "codemirror_mode": {
    "name": "ipython",
    "version": 3
   },
   "file_extension": ".py",
   "mimetype": "text/x-python",
   "name": "python",
   "nbconvert_exporter": "python",
   "pygments_lexer": "ipython3",
   "version": "3.10.12"
  }
 },
 "nbformat": 4,
 "nbformat_minor": 2
}
