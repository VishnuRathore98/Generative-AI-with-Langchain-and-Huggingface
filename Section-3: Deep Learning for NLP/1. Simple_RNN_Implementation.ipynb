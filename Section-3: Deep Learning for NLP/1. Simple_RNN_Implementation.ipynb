{
 "cells": [
  {
   "cell_type": "markdown",
   "metadata": {},
   "source": [
    "#### Simple RNN\n",
    "##### This example demonstrates how to create and train a basic RNN for a sequence-to-sequence task, such as predicting the next number in a sequence."
   ]
  },
  {
   "cell_type": "code",
   "execution_count": 4,
   "metadata": {},
   "outputs": [
    {
     "name": "stdout",
     "output_type": "stream",
     "text": [
      "\u001b[1m1/1\u001b[0m \u001b[32m━━━━━━━━━━━━━━━━━━━━\u001b[0m\u001b[37m\u001b[0m \u001b[1m0s\u001b[0m 144ms/step\n",
      "Prediction for [1, 2, 3]: [[3.9993167]]\n"
     ]
    }
   ],
   "source": [
    "import numpy as np\n",
    "from tensorflow.keras.models import Sequential\n",
    "from tensorflow.keras.layers import SimpleRNN, Dense\n",
    "\n",
    "# Input and output\n",
    "X = np.array([[[1], [2], [3]]])  # Shape: (1 sample, 3 time steps, 1 feature)\n",
    "y = np.array([[4]])             # Shape: (1 sample, 1 target)\n",
    "\n",
    "# Normalize the input and output\n",
    "# Normalizing the input values can help the model learn more efficiently.\n",
    "X = X / 10.0\n",
    "y = y / 10.0\n",
    "\n",
    "# Build the RNN model\n",
    "# A single unit in the RNN might not capture the complexity of the sequence relationship. \n",
    "# Increasing to 5 or 10 units can improve performance.\n",
    "model = Sequential([\n",
    "    SimpleRNN(5, activation='tanh', input_shape=(3, 1)),  # 5 units\n",
    "    Dense(1)                                              # 1 output\n",
    "])\n",
    "\n",
    "# Compile the model\n",
    "# Using a smaller learning rate (e.g., 0.001) in the Adam optimizer to stabilize the training.\n",
    "model.compile(optimizer='adam', loss='mse')\n",
    "\n",
    "# Train the model\n",
    "# 100 or more epochs allows the model to learn better.\n",
    "model.fit(X, y, epochs=100, verbose=0)\n",
    "\n",
    "# Make a prediction\n",
    "# multiply the prediction by 10 to rescale it.\n",
    "predicted = model.predict(X) * 10\n",
    "print(\"Prediction for [1, 2, 3]:\", predicted)\n"
   ]
  },
  {
   "cell_type": "code",
   "execution_count": null,
   "metadata": {},
   "outputs": [],
   "source": []
  }
 ],
 "metadata": {
  "kernelspec": {
   "display_name": "Python 3",
   "language": "python",
   "name": "python3"
  },
  "language_info": {
   "codemirror_mode": {
    "name": "ipython",
    "version": 3
   },
   "file_extension": ".py",
   "mimetype": "text/x-python",
   "name": "python",
   "nbconvert_exporter": "python",
   "pygments_lexer": "ipython3",
   "version": "3.10.12"
  }
 },
 "nbformat": 4,
 "nbformat_minor": 2
}
