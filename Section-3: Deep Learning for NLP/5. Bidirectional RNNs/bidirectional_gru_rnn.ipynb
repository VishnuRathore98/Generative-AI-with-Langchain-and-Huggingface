{
 "cells": [
  {
   "cell_type": "markdown",
   "metadata": {},
   "source": [
    "### Bidirectional GRU RNN\n",
    "\n",
    "Bidirectional GRU RNN for IMDB Sentiment Analysis 🚀\n",
    "Let's implement a Bidirectional GRU model and compare it with Bidirectional LSTM and Bidirectional Simple RNN for text classification.\n",
    "\n"
   ]
  },
  {
   "cell_type": "code",
   "execution_count": 1,
   "metadata": {},
   "outputs": [
    {
     "name": "stderr",
     "output_type": "stream",
     "text": [
      "2025-01-31 08:40:18.770713: I external/local_xla/xla/tsl/cuda/cudart_stub.cc:32] Could not find cuda drivers on your machine, GPU will not be used.\n",
      "2025-01-31 08:40:20.691815: I external/local_xla/xla/tsl/cuda/cudart_stub.cc:32] Could not find cuda drivers on your machine, GPU will not be used.\n",
      "2025-01-31 08:40:21.649780: E external/local_xla/xla/stream_executor/cuda/cuda_fft.cc:477] Unable to register cuFFT factory: Attempting to register factory for plugin cuFFT when one has already been registered\n",
      "WARNING: All log messages before absl::InitializeLog() is called are written to STDERR\n",
      "E0000 00:00:1738293022.419340    7689 cuda_dnn.cc:8310] Unable to register cuDNN factory: Attempting to register factory for plugin cuDNN when one has already been registered\n",
      "E0000 00:00:1738293022.664129    7689 cuda_blas.cc:1418] Unable to register cuBLAS factory: Attempting to register factory for plugin cuBLAS when one has already been registered\n",
      "2025-01-31 08:40:25.587812: I tensorflow/core/platform/cpu_feature_guard.cc:210] This TensorFlow binary is optimized to use available CPU instructions in performance-critical operations.\n",
      "To enable the following instructions: AVX2 FMA, in other operations, rebuild TensorFlow with the appropriate compiler flags.\n"
     ]
    }
   ],
   "source": [
    "# Import libraries\n",
    "import tensorflow as tf\n",
    "from tensorflow.keras.datasets import imdb\n",
    "from tensorflow.keras.preprocessing.sequence import pad_sequences\n",
    "from tensorflow.keras.models import Sequential\n",
    "from tensorflow.keras.layers import Embedding, Bidirectional, GRU, LSTM, SimpleRNN, Dense\n",
    "import time\n",
    "\n",
    "# GRU (Gated Recurrent Unit) is similar to LSTM but has fewer parameters, making it faster to train."
   ]
  },
  {
   "cell_type": "code",
   "execution_count": 2,
   "metadata": {},
   "outputs": [
    {
     "name": "stdout",
     "output_type": "stream",
     "text": [
      "Training data shape: (25000, 100), Labels shape: (25000,)\n",
      "Testing data shape: (25000, 100), Labels shape: (25000,)\n"
     ]
    }
   ],
   "source": [
    "# Load and Preprocess the IMDB Dataset\n",
    "# Set parameters\n",
    "vocab_size = 10000  # Consider top 10,000 words\n",
    "max_length = 100    # Each review is padded to 100 words\n",
    "\n",
    "# Load IMDB dataset\n",
    "(X_train, y_train), (X_test, y_test) = imdb.load_data(num_words=vocab_size)\n",
    "\n",
    "# Pad sequences to ensure all reviews are the same length\n",
    "X_train = pad_sequences(X_train, maxlen=max_length, padding='post', truncating='post')\n",
    "X_test = pad_sequences(X_test, maxlen=max_length, padding='post', truncating='post')\n",
    "\n",
    "print(f\"Training data shape: {X_train.shape}, Labels shape: {y_train.shape}\")\n",
    "print(f\"Testing data shape: {X_test.shape}, Labels shape: {y_test.shape}\")\n"
   ]
  },
  {
   "cell_type": "code",
   "execution_count": 4,
   "metadata": {},
   "outputs": [],
   "source": [
    "# Define the Bidirectional GRU Model\n",
    "def create_bigru_model():\n",
    "    model = Sequential([\n",
    "        Embedding(input_dim=vocab_size, output_dim=64, input_length=max_length),\n",
    "        Bidirectional(GRU(128, dropout=0.3, recurrent_dropout=0.3)),\n",
    "        Dense(1, activation='sigmoid')\n",
    "    ])\n",
    "    model.compile(optimizer='adam', loss='binary_crossentropy', metrics=['accuracy'])\n",
    "    return model\n",
    "\n",
    "\n",
    "# Embedding(10000, 64): Converts words into 64-dimensional vectors.\n",
    "# Bidirectional(GRU(128)): Uses 128 GRU units (processes both forward and backward).\n",
    "# Dropout(0.3): Helps prevent overfitting.\n",
    "# Dense(1, activation='sigmoid'): Outputs probability (binary classification)."
   ]
  },
  {
   "cell_type": "code",
   "execution_count": 5,
   "metadata": {},
   "outputs": [],
   "source": [
    "# Define and Train Other Models for Comparison\n",
    "def create_bilstm_model():\n",
    "    model = Sequential([\n",
    "        Embedding(input_dim=vocab_size, output_dim=64, input_length=max_length),\n",
    "        Bidirectional(LSTM(128, dropout=0.3, recurrent_dropout=0.3)),\n",
    "        Dense(1, activation='sigmoid')\n",
    "    ])\n",
    "    model.compile(optimizer='adam', loss='binary_crossentropy', metrics=['accuracy'])\n",
    "    return model\n",
    "\n",
    "def create_birnn_model():\n",
    "    model = Sequential([\n",
    "        Embedding(input_dim=vocab_size, output_dim=64, input_length=max_length),\n",
    "        Bidirectional(SimpleRNN(128, dropout=0.3, recurrent_dropout=0.3)),\n",
    "        Dense(1, activation='sigmoid')\n",
    "    ])\n",
    "    model.compile(optimizer='adam', loss='binary_crossentropy', metrics=['accuracy'])\n",
    "    return model\n",
    "\n",
    " "
   ]
  },
  {
   "cell_type": "code",
   "execution_count": 6,
   "metadata": {},
   "outputs": [
    {
     "name": "stderr",
     "output_type": "stream",
     "text": [
      "/home/vpsr/.local/lib/python3.10/site-packages/keras/src/layers/core/embedding.py:90: UserWarning: Argument `input_length` is deprecated. Just remove it.\n",
      "  warnings.warn(\n",
      "2025-01-31 08:43:10.544077: E external/local_xla/xla/stream_executor/cuda/cuda_driver.cc:152] failed call to cuInit: INTERNAL: CUDA error: Failed call to cuInit: CUDA_ERROR_NO_DEVICE: no CUDA-capable device is detected\n"
     ]
    },
    {
     "name": "stdout",
     "output_type": "stream",
     "text": [
      "Epoch 1/5\n",
      "\u001b[1m391/391\u001b[0m \u001b[32m━━━━━━━━━━━━━━━━━━━━\u001b[0m\u001b[37m\u001b[0m \u001b[1m249s\u001b[0m 591ms/step - accuracy: 0.5753 - loss: 1391122.8750 - val_accuracy: 0.6354 - val_loss: 0.6617\n",
      "Epoch 2/5\n",
      "\u001b[1m391/391\u001b[0m \u001b[32m━━━━━━━━━━━━━━━━━━━━\u001b[0m\u001b[37m\u001b[0m \u001b[1m227s\u001b[0m 582ms/step - accuracy: 0.7071 - loss: 4851257.0000 - val_accuracy: 0.6302 - val_loss: 0.6561\n",
      "Epoch 3/5\n",
      "\u001b[1m391/391\u001b[0m \u001b[32m━━━━━━━━━━━━━━━━━━━━\u001b[0m\u001b[37m\u001b[0m \u001b[1m228s\u001b[0m 584ms/step - accuracy: 0.7293 - loss: 14721.9971 - val_accuracy: 0.6076 - val_loss: 0.6598\n",
      "Epoch 4/5\n",
      "\u001b[1m391/391\u001b[0m \u001b[32m━━━━━━━━━━━━━━━━━━━━\u001b[0m\u001b[37m\u001b[0m \u001b[1m228s\u001b[0m 584ms/step - accuracy: 0.7571 - loss: 0.5700 - val_accuracy: 0.6150 - val_loss: 0.6523\n",
      "Epoch 5/5\n",
      "\u001b[1m391/391\u001b[0m \u001b[32m━━━━━━━━━━━━━━━━━━━━\u001b[0m\u001b[37m\u001b[0m \u001b[1m229s\u001b[0m 586ms/step - accuracy: 0.7821 - loss: 0.6117 - val_accuracy: 0.6110 - val_loss: 0.6510\n",
      "Bidirectional GRU model training time: 1163.12 seconds\n",
      "Epoch 1/5\n",
      "\u001b[1m391/391\u001b[0m \u001b[32m━━━━━━━━━━━━━━━━━━━━\u001b[0m\u001b[37m\u001b[0m \u001b[1m249s\u001b[0m 602ms/step - accuracy: 0.6383 - loss: 0.6244 - val_accuracy: 0.7733 - val_loss: 0.4945\n",
      "Epoch 2/5\n",
      "\u001b[1m391/391\u001b[0m \u001b[32m━━━━━━━━━━━━━━━━━━━━\u001b[0m\u001b[37m\u001b[0m \u001b[1m234s\u001b[0m 597ms/step - accuracy: 0.8239 - loss: 0.4142 - val_accuracy: 0.7781 - val_loss: 0.4684\n",
      "Epoch 3/5\n",
      "\u001b[1m391/391\u001b[0m \u001b[32m━━━━━━━━━━━━━━━━━━━━\u001b[0m\u001b[37m\u001b[0m \u001b[1m233s\u001b[0m 597ms/step - accuracy: 0.8650 - loss: 0.3415 - val_accuracy: 0.7779 - val_loss: 0.4695\n",
      "Epoch 4/5\n",
      "\u001b[1m391/391\u001b[0m \u001b[32m━━━━━━━━━━━━━━━━━━━━\u001b[0m\u001b[37m\u001b[0m \u001b[1m233s\u001b[0m 596ms/step - accuracy: 0.8873 - loss: 0.2905 - val_accuracy: 0.8082 - val_loss: 0.4575\n",
      "Epoch 5/5\n",
      "\u001b[1m391/391\u001b[0m \u001b[32m━━━━━━━━━━━━━━━━━━━━\u001b[0m\u001b[37m\u001b[0m \u001b[1m235s\u001b[0m 601ms/step - accuracy: 0.9061 - loss: 0.2507 - val_accuracy: 0.7971 - val_loss: 0.4828\n",
      "Bidirectional LSTM model training time: 1184.06 seconds\n",
      "Epoch 1/5\n",
      "\u001b[1m391/391\u001b[0m \u001b[32m━━━━━━━━━━━━━━━━━━━━\u001b[0m\u001b[37m\u001b[0m \u001b[1m84s\u001b[0m 186ms/step - accuracy: 0.5035 - loss: 0.7233 - val_accuracy: 0.5000 - val_loss: 0.7013\n",
      "Epoch 2/5\n",
      "\u001b[1m391/391\u001b[0m \u001b[32m━━━━━━━━━━━━━━━━━━━━\u001b[0m\u001b[37m\u001b[0m \u001b[1m73s\u001b[0m 186ms/step - accuracy: 0.4982 - loss: 0.7058 - val_accuracy: 0.4990 - val_loss: 0.6942\n",
      "Epoch 3/5\n",
      "\u001b[1m391/391\u001b[0m \u001b[32m━━━━━━━━━━━━━━━━━━━━\u001b[0m\u001b[37m\u001b[0m \u001b[1m73s\u001b[0m 186ms/step - accuracy: 0.5057 - loss: 0.7006 - val_accuracy: 0.5006 - val_loss: 0.6942\n",
      "Epoch 4/5\n",
      "\u001b[1m391/391\u001b[0m \u001b[32m━━━━━━━━━━━━━━━━━━━━\u001b[0m\u001b[37m\u001b[0m \u001b[1m73s\u001b[0m 187ms/step - accuracy: 0.5083 - loss: 0.6974 - val_accuracy: 0.5024 - val_loss: 0.6936\n",
      "Epoch 5/5\n",
      "\u001b[1m391/391\u001b[0m \u001b[32m━━━━━━━━━━━━━━━━━━━━\u001b[0m\u001b[37m\u001b[0m \u001b[1m73s\u001b[0m 186ms/step - accuracy: 0.5004 - loss: 0.6975 - val_accuracy: 0.5128 - val_loss: 0.6943\n",
      "Bidirectional Simple RNN model training time: 376.08 seconds\n",
      "\u001b[1m782/782\u001b[0m \u001b[32m━━━━━━━━━━━━━━━━━━━━\u001b[0m\u001b[37m\u001b[0m \u001b[1m62s\u001b[0m 79ms/step - accuracy: 0.6129 - loss: 0.6500\n",
      "\u001b[1m782/782\u001b[0m \u001b[32m━━━━━━━━━━━━━━━━━━━━\u001b[0m\u001b[37m\u001b[0m \u001b[1m89s\u001b[0m 114ms/step - accuracy: 0.7981 - loss: 0.4783\n",
      "\u001b[1m782/782\u001b[0m \u001b[32m━━━━━━━━━━━━━━━━━━━━\u001b[0m\u001b[37m\u001b[0m \u001b[1m27s\u001b[0m 34ms/step - accuracy: 0.5133 - loss: 0.6948\n",
      "Bidirectional GRU Test Accuracy: 61.10%\n",
      "Bidirectional LSTM Test Accuracy: 79.71%\n",
      "Bidirectional Simple RNN Test Accuracy: 51.28%\n"
     ]
    }
   ],
   "source": [
    "# Train and Compare Models\n",
    "# Create models\n",
    "bigru_model = create_bigru_model()\n",
    "bilstm_model = create_bilstm_model()\n",
    "birnn_model = create_birnn_model()\n",
    "\n",
    "# Train Bidirectional GRU model\n",
    "start_time = time.time()\n",
    "bigru_model.fit(X_train, y_train, epochs=5, batch_size=64, validation_data=(X_test, y_test))\n",
    "bigru_time = time.time() - start_time\n",
    "print(f\"Bidirectional GRU model training time: {bigru_time:.2f} seconds\")\n",
    "\n",
    "# Train Bidirectional LSTM model\n",
    "start_time = time.time()\n",
    "bilstm_model.fit(X_train, y_train, epochs=5, batch_size=64, validation_data=(X_test, y_test))\n",
    "bilstm_time = time.time() - start_time\n",
    "print(f\"Bidirectional LSTM model training time: {bilstm_time:.2f} seconds\")\n",
    "\n",
    "# Train Bidirectional Simple RNN model\n",
    "start_time = time.time()\n",
    "birnn_model.fit(X_train, y_train, epochs=5, batch_size=64, validation_data=(X_test, y_test))\n",
    "birnn_time = time.time() - start_time\n",
    "print(f\"Bidirectional Simple RNN model training time: {birnn_time:.2f} seconds\")\n",
    "\n",
    "# Evaluate models\n",
    "bigru_loss, bigru_accuracy = bigru_model.evaluate(X_test, y_test)\n",
    "bilstm_loss, bilstm_accuracy = bilstm_model.evaluate(X_test, y_test)\n",
    "birnn_loss, birnn_accuracy = birnn_model.evaluate(X_test, y_test)\n",
    "\n",
    "print(f\"Bidirectional GRU Test Accuracy: {bigru_accuracy * 100:.2f}%\")\n",
    "print(f\"Bidirectional LSTM Test Accuracy: {bilstm_accuracy * 100:.2f}%\")\n",
    "print(f\"Bidirectional Simple RNN Test Accuracy: {birnn_accuracy * 100:.2f}%\")\n"
   ]
  },
  {
   "cell_type": "code",
   "execution_count": 8,
   "metadata": {},
   "outputs": [
    {
     "name": "stdout",
     "output_type": "stream",
     "text": [
      "\u001b[1m1/1\u001b[0m \u001b[32m━━━━━━━━━━━━━━━━━━━━\u001b[0m\u001b[37m\u001b[0m \u001b[1m0s\u001b[0m 195ms/step\n",
      "Review: This movie was absolutely fantastic! I loved it.\n",
      "Predicted Sentiment: Positive\n",
      "\n",
      "Review: Worst movie ever. I regret watching it.\n",
      "Predicted Sentiment: Negative\n",
      "\n"
     ]
    }
   ],
   "source": [
    "# Making Predictions\n",
    "# Sample new reviews\n",
    "new_reviews = [\"This movie was absolutely fantastic! I loved it.\",\n",
    "               \"Worst movie ever. I regret watching it.\"]\n",
    "\n",
    "# Tokenize and preprocess new reviews\n",
    "from tensorflow.keras.preprocessing.text import Tokenizer\n",
    "\n",
    "tokenizer = Tokenizer(num_words=vocab_size)\n",
    "tokenizer.fit_on_texts(new_reviews)\n",
    "new_sequences = tokenizer.texts_to_sequences(new_reviews)\n",
    "new_padded = pad_sequences(new_sequences, maxlen=max_length, padding='post')\n",
    "\n",
    "# Predict sentiment\n",
    "predictions = bigru_model.predict(new_padded)\n",
    "labels = [\"Negative\" if pred > 0.5 else \"Positive\" for pred in predictions]\n",
    "\n",
    "# Display results\n",
    "for review, sentiment in zip(new_reviews, labels):\n",
    "    print(f\"Review: {review}\\nPredicted Sentiment: {sentiment}\\n\")\n"
   ]
  },
  {
   "cell_type": "code",
   "execution_count": 9,
   "metadata": {},
   "outputs": [
    {
     "name": "stderr",
     "output_type": "stream",
     "text": [
      "WARNING:absl:You are saving your model as an HDF5 file via `model.save()` or `keras.saving.save_model(model)`. This file format is considered legacy. We recommend using instead the native Keras format, e.g. `model.save('my_model.keras')` or `keras.saving.save_model(model, 'my_model.keras')`. \n"
     ]
    }
   ],
   "source": [
    "bigru_model.save(\"imdb_reviews_sentiment_analysis_using_bidirectional_gru_rnn.h5\")"
   ]
  },
  {
   "cell_type": "code",
   "execution_count": null,
   "metadata": {},
   "outputs": [],
   "source": []
  }
 ],
 "metadata": {
  "kernelspec": {
   "display_name": "Python 3",
   "language": "python",
   "name": "python3"
  },
  "language_info": {
   "codemirror_mode": {
    "name": "ipython",
    "version": 3
   },
   "file_extension": ".py",
   "mimetype": "text/x-python",
   "name": "python",
   "nbconvert_exporter": "python",
   "pygments_lexer": "ipython3",
   "version": "3.10.12"
  }
 },
 "nbformat": 4,
 "nbformat_minor": 2
}
